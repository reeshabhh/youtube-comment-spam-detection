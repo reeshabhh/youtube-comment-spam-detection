{
 "cells": [
  {
   "cell_type": "markdown",
   "id": "78936fca-8c1e-4c1a-9443-ad1a6b7e5756",
   "metadata": {},
   "source": [
    "[Spam Detection for YouTube Comments using Python and scikit-learn | Machine Learning by Jackson Yuan](https://www.youtube.com/watch?v=FmmlHbHqgGY)"
   ]
  },
  {
   "cell_type": "code",
   "execution_count": 1,
   "id": "89a58c88-0501-4634-961d-ec4abffa29e0",
   "metadata": {},
   "outputs": [],
   "source": [
    "import numpy as np, pandas as pd, matplotlib.pyplot as plt, seaborn as sns, plotly"
   ]
  },
  {
   "cell_type": "code",
   "execution_count": 2,
   "id": "513d0bd4-24e4-4962-88e9-9c233c3cd5ab",
   "metadata": {},
   "outputs": [],
   "source": [
    "import pandas as pd\n",
    "import zipfile\n",
    "import pickle\n",
    "\n",
    "from sklearn.model_selection import train_test_split\n",
    "from sklearn.feature_extraction.text import TfidfVectorizer\n",
    "\n",
    "from sklearn.naive_bayes import MultinomialNB\n",
    "\n",
    "from sklearn.metrics import confusion_matrix, classification_report"
   ]
  },
  {
   "cell_type": "code",
   "execution_count": 3,
   "id": "036c8c2b-1e7a-4d24-a02a-4527141ab084",
   "metadata": {},
   "outputs": [],
   "source": [
    "z = zipfile.ZipFile(r\"./youtube+spam+collection.zip\")"
   ]
  },
  {
   "cell_type": "code",
   "execution_count": 4,
   "id": "309024b1-0add-4795-ab28-e340eb68d742",
   "metadata": {},
   "outputs": [],
   "source": [
    "z = zipfile.ZipFile(\"youtube+spam+collection.zip\")"
   ]
  },
  {
   "cell_type": "code",
   "execution_count": 5,
   "id": "c7d8a9e1-66df-4d2c-b142-2493a6682497",
   "metadata": {},
   "outputs": [],
   "source": [
    "Psy = pd.read_csv(z.open(\"Youtube01-Psy.csv\"))\n",
    "Katy = pd.read_csv(z.open(\"Youtube02-KatyPerry.csv\"))\n",
    "LMFAO = pd.read_csv(z.open(\"Youtube03-LMFAO.csv\"))\n",
    "Eminem = pd.read_csv(z.open(\"Youtube04-Eminem.csv\"))\n",
    "Shakira = pd.read_csv(z.open(\"Youtube05-Shakira.csv\"))"
   ]
  },
  {
   "cell_type": "code",
   "execution_count": 6,
   "id": "66ae573a-2406-456a-8251-14268e82d3c6",
   "metadata": {},
   "outputs": [],
   "source": [
    "data = pd.concat([Psy, Katy, LMFAO, Eminem, Shakira], axis = 0)"
   ]
  },
  {
   "cell_type": "code",
   "execution_count": 7,
   "id": "7d9b5ac0-002d-41be-baf7-552243820a5e",
   "metadata": {},
   "outputs": [
    {
     "data": {
      "text/html": [
       "<div>\n",
       "<style scoped>\n",
       "    .dataframe tbody tr th:only-of-type {\n",
       "        vertical-align: middle;\n",
       "    }\n",
       "\n",
       "    .dataframe tbody tr th {\n",
       "        vertical-align: top;\n",
       "    }\n",
       "\n",
       "    .dataframe thead th {\n",
       "        text-align: right;\n",
       "    }\n",
       "</style>\n",
       "<table border=\"1\" class=\"dataframe\">\n",
       "  <thead>\n",
       "    <tr style=\"text-align: right;\">\n",
       "      <th></th>\n",
       "      <th>COMMENT_ID</th>\n",
       "      <th>AUTHOR</th>\n",
       "      <th>DATE</th>\n",
       "      <th>CONTENT</th>\n",
       "      <th>CLASS</th>\n",
       "    </tr>\n",
       "  </thead>\n",
       "  <tbody>\n",
       "    <tr>\n",
       "      <th>0</th>\n",
       "      <td>LZQPQhLyRh80UYxNuaDWhIGQYNQ96IuCg-AYWqNPjpU</td>\n",
       "      <td>Julius NM</td>\n",
       "      <td>2013-11-07T06:20:48</td>\n",
       "      <td>Huh, anyway check out this you[tube] channel: ...</td>\n",
       "      <td>1</td>\n",
       "    </tr>\n",
       "    <tr>\n",
       "      <th>1</th>\n",
       "      <td>LZQPQhLyRh_C2cTtd9MvFRJedxydaVW-2sNg5Diuo4A</td>\n",
       "      <td>adam riyati</td>\n",
       "      <td>2013-11-07T12:37:15</td>\n",
       "      <td>Hey guys check out my new channel and our firs...</td>\n",
       "      <td>1</td>\n",
       "    </tr>\n",
       "    <tr>\n",
       "      <th>2</th>\n",
       "      <td>LZQPQhLyRh9MSZYnf8djyk0gEF9BHDPYrrK-qCczIY8</td>\n",
       "      <td>Evgeny Murashkin</td>\n",
       "      <td>2013-11-08T17:34:21</td>\n",
       "      <td>just for test I have to say murdev.com</td>\n",
       "      <td>1</td>\n",
       "    </tr>\n",
       "    <tr>\n",
       "      <th>3</th>\n",
       "      <td>z13jhp0bxqncu512g22wvzkasxmvvzjaz04</td>\n",
       "      <td>ElNino Melendez</td>\n",
       "      <td>2013-11-09T08:28:43</td>\n",
       "      <td>me shaking my sexy ass on my channel enjoy ^_^ ﻿</td>\n",
       "      <td>1</td>\n",
       "    </tr>\n",
       "    <tr>\n",
       "      <th>4</th>\n",
       "      <td>z13fwbwp1oujthgqj04chlngpvzmtt3r3dw</td>\n",
       "      <td>GsMega</td>\n",
       "      <td>2013-11-10T16:05:38</td>\n",
       "      <td>watch?v=vtaRGgvGtWQ   Check this out .﻿</td>\n",
       "      <td>1</td>\n",
       "    </tr>\n",
       "  </tbody>\n",
       "</table>\n",
       "</div>"
      ],
      "text/plain": [
       "                                    COMMENT_ID            AUTHOR  \\\n",
       "0  LZQPQhLyRh80UYxNuaDWhIGQYNQ96IuCg-AYWqNPjpU         Julius NM   \n",
       "1  LZQPQhLyRh_C2cTtd9MvFRJedxydaVW-2sNg5Diuo4A       adam riyati   \n",
       "2  LZQPQhLyRh9MSZYnf8djyk0gEF9BHDPYrrK-qCczIY8  Evgeny Murashkin   \n",
       "3          z13jhp0bxqncu512g22wvzkasxmvvzjaz04   ElNino Melendez   \n",
       "4          z13fwbwp1oujthgqj04chlngpvzmtt3r3dw            GsMega   \n",
       "\n",
       "                  DATE                                            CONTENT  \\\n",
       "0  2013-11-07T06:20:48  Huh, anyway check out this you[tube] channel: ...   \n",
       "1  2013-11-07T12:37:15  Hey guys check out my new channel and our firs...   \n",
       "2  2013-11-08T17:34:21             just for test I have to say murdev.com   \n",
       "3  2013-11-09T08:28:43   me shaking my sexy ass on my channel enjoy ^_^ ﻿   \n",
       "4  2013-11-10T16:05:38            watch?v=vtaRGgvGtWQ   Check this out .﻿   \n",
       "\n",
       "   CLASS  \n",
       "0      1  \n",
       "1      1  \n",
       "2      1  \n",
       "3      1  \n",
       "4      1  "
      ]
     },
     "execution_count": 7,
     "metadata": {},
     "output_type": "execute_result"
    }
   ],
   "source": [
    "data.head()"
   ]
  },
  {
   "cell_type": "code",
   "execution_count": 8,
   "id": "8c464a6b-8f52-4d5b-b024-1568af711c00",
   "metadata": {},
   "outputs": [],
   "source": [
    "data.drop([\"COMMENT_ID\", \"AUTHOR\", \"DATE\"], axis = 1, inplace = True)"
   ]
  },
  {
   "cell_type": "code",
   "execution_count": 9,
   "id": "20cc076d-e817-4257-b3dd-cdb7348e74d2",
   "metadata": {},
   "outputs": [
    {
     "data": {
      "text/html": [
       "<div>\n",
       "<style scoped>\n",
       "    .dataframe tbody tr th:only-of-type {\n",
       "        vertical-align: middle;\n",
       "    }\n",
       "\n",
       "    .dataframe tbody tr th {\n",
       "        vertical-align: top;\n",
       "    }\n",
       "\n",
       "    .dataframe thead th {\n",
       "        text-align: right;\n",
       "    }\n",
       "</style>\n",
       "<table border=\"1\" class=\"dataframe\">\n",
       "  <thead>\n",
       "    <tr style=\"text-align: right;\">\n",
       "      <th></th>\n",
       "      <th>CONTENT</th>\n",
       "      <th>CLASS</th>\n",
       "    </tr>\n",
       "  </thead>\n",
       "  <tbody>\n",
       "    <tr>\n",
       "      <th>0</th>\n",
       "      <td>Huh, anyway check out this you[tube] channel: ...</td>\n",
       "      <td>1</td>\n",
       "    </tr>\n",
       "    <tr>\n",
       "      <th>1</th>\n",
       "      <td>Hey guys check out my new channel and our firs...</td>\n",
       "      <td>1</td>\n",
       "    </tr>\n",
       "    <tr>\n",
       "      <th>2</th>\n",
       "      <td>just for test I have to say murdev.com</td>\n",
       "      <td>1</td>\n",
       "    </tr>\n",
       "    <tr>\n",
       "      <th>3</th>\n",
       "      <td>me shaking my sexy ass on my channel enjoy ^_^ ﻿</td>\n",
       "      <td>1</td>\n",
       "    </tr>\n",
       "    <tr>\n",
       "      <th>4</th>\n",
       "      <td>watch?v=vtaRGgvGtWQ   Check this out .﻿</td>\n",
       "      <td>1</td>\n",
       "    </tr>\n",
       "  </tbody>\n",
       "</table>\n",
       "</div>"
      ],
      "text/plain": [
       "                                             CONTENT  CLASS\n",
       "0  Huh, anyway check out this you[tube] channel: ...      1\n",
       "1  Hey guys check out my new channel and our firs...      1\n",
       "2             just for test I have to say murdev.com      1\n",
       "3   me shaking my sexy ass on my channel enjoy ^_^ ﻿      1\n",
       "4            watch?v=vtaRGgvGtWQ   Check this out .﻿      1"
      ]
     },
     "execution_count": 9,
     "metadata": {},
     "output_type": "execute_result"
    }
   ],
   "source": [
    "data.head()"
   ]
  },
  {
   "cell_type": "code",
   "execution_count": 10,
   "id": "49f4d171-bdb8-4da3-96b1-9c0b44dbeb22",
   "metadata": {},
   "outputs": [],
   "source": [
    "X_train, X_test, y_train, y_test = train_test_split(data[\"CONTENT\"], data[\"CLASS\"]) # by default de will have 66.66% training and 33.33% test"
   ]
  },
  {
   "cell_type": "code",
   "execution_count": 11,
   "id": "e9d89ba1-bbac-401d-874e-1e0e76ff090d",
   "metadata": {},
   "outputs": [
    {
     "data": {
      "text/plain": [
       "(1467,)"
      ]
     },
     "execution_count": 11,
     "metadata": {},
     "output_type": "execute_result"
    }
   ],
   "source": [
    "X_train.shape"
   ]
  },
  {
   "cell_type": "code",
   "execution_count": 12,
   "id": "c6283e3a-fe60-48d5-b97d-86395b84539e",
   "metadata": {},
   "outputs": [
    {
     "data": {
      "text/plain": [
       "(489,)"
      ]
     },
     "execution_count": 12,
     "metadata": {},
     "output_type": "execute_result"
    }
   ],
   "source": [
    "X_test.shape"
   ]
  },
  {
   "cell_type": "code",
   "execution_count": 13,
   "id": "029ae057-9241-47e6-b52a-93f7b64bc402",
   "metadata": {},
   "outputs": [
    {
     "data": {
      "text/plain": [
       "33.33333333333333"
      ]
     },
     "execution_count": 13,
     "metadata": {},
     "output_type": "execute_result"
    }
   ],
   "source": [
    "489/1467 * 100"
   ]
  },
  {
   "cell_type": "code",
   "execution_count": 14,
   "id": "9cfe61e1-cb1a-493a-a044-455bfc3b9486",
   "metadata": {},
   "outputs": [],
   "source": [
    "tfidf_vect = TfidfVectorizer(use_idf=True, lowercase=True)"
   ]
  },
  {
   "cell_type": "code",
   "execution_count": 15,
   "id": "9270f8c4-4f8f-4892-a98c-5054976e83df",
   "metadata": {},
   "outputs": [
    {
     "data": {
      "text/plain": [
       "(1467, 3615)"
      ]
     },
     "execution_count": 15,
     "metadata": {},
     "output_type": "execute_result"
    }
   ],
   "source": [
    "X_train_tfidf = tfidf_vect.fit_transform(X_train)\n",
    "X_train_tfidf.shape"
   ]
  },
  {
   "cell_type": "code",
   "execution_count": 16,
   "id": "35ec4e98-7676-4251-a649-9cd11b175183",
   "metadata": {},
   "outputs": [],
   "source": [
    "model = MultinomialNB() # we are using the default hyperparameter values"
   ]
  },
  {
   "cell_type": "code",
   "execution_count": 17,
   "id": "f575de53-81a0-4504-974f-68da2c8970cf",
   "metadata": {},
   "outputs": [
    {
     "data": {
      "text/html": [
       "<style>#sk-container-id-1 {\n",
       "  /* Definition of color scheme common for light and dark mode */\n",
       "  --sklearn-color-text: black;\n",
       "  --sklearn-color-line: gray;\n",
       "  /* Definition of color scheme for unfitted estimators */\n",
       "  --sklearn-color-unfitted-level-0: #fff5e6;\n",
       "  --sklearn-color-unfitted-level-1: #f6e4d2;\n",
       "  --sklearn-color-unfitted-level-2: #ffe0b3;\n",
       "  --sklearn-color-unfitted-level-3: chocolate;\n",
       "  /* Definition of color scheme for fitted estimators */\n",
       "  --sklearn-color-fitted-level-0: #f0f8ff;\n",
       "  --sklearn-color-fitted-level-1: #d4ebff;\n",
       "  --sklearn-color-fitted-level-2: #b3dbfd;\n",
       "  --sklearn-color-fitted-level-3: cornflowerblue;\n",
       "\n",
       "  /* Specific color for light theme */\n",
       "  --sklearn-color-text-on-default-background: var(--sg-text-color, var(--theme-code-foreground, var(--jp-content-font-color1, black)));\n",
       "  --sklearn-color-background: var(--sg-background-color, var(--theme-background, var(--jp-layout-color0, white)));\n",
       "  --sklearn-color-border-box: var(--sg-text-color, var(--theme-code-foreground, var(--jp-content-font-color1, black)));\n",
       "  --sklearn-color-icon: #696969;\n",
       "\n",
       "  @media (prefers-color-scheme: dark) {\n",
       "    /* Redefinition of color scheme for dark theme */\n",
       "    --sklearn-color-text-on-default-background: var(--sg-text-color, var(--theme-code-foreground, var(--jp-content-font-color1, white)));\n",
       "    --sklearn-color-background: var(--sg-background-color, var(--theme-background, var(--jp-layout-color0, #111)));\n",
       "    --sklearn-color-border-box: var(--sg-text-color, var(--theme-code-foreground, var(--jp-content-font-color1, white)));\n",
       "    --sklearn-color-icon: #878787;\n",
       "  }\n",
       "}\n",
       "\n",
       "#sk-container-id-1 {\n",
       "  color: var(--sklearn-color-text);\n",
       "}\n",
       "\n",
       "#sk-container-id-1 pre {\n",
       "  padding: 0;\n",
       "}\n",
       "\n",
       "#sk-container-id-1 input.sk-hidden--visually {\n",
       "  border: 0;\n",
       "  clip: rect(1px 1px 1px 1px);\n",
       "  clip: rect(1px, 1px, 1px, 1px);\n",
       "  height: 1px;\n",
       "  margin: -1px;\n",
       "  overflow: hidden;\n",
       "  padding: 0;\n",
       "  position: absolute;\n",
       "  width: 1px;\n",
       "}\n",
       "\n",
       "#sk-container-id-1 div.sk-dashed-wrapped {\n",
       "  border: 1px dashed var(--sklearn-color-line);\n",
       "  margin: 0 0.4em 0.5em 0.4em;\n",
       "  box-sizing: border-box;\n",
       "  padding-bottom: 0.4em;\n",
       "  background-color: var(--sklearn-color-background);\n",
       "}\n",
       "\n",
       "#sk-container-id-1 div.sk-container {\n",
       "  /* jupyter's `normalize.less` sets `[hidden] { display: none; }`\n",
       "     but bootstrap.min.css set `[hidden] { display: none !important; }`\n",
       "     so we also need the `!important` here to be able to override the\n",
       "     default hidden behavior on the sphinx rendered scikit-learn.org.\n",
       "     See: https://github.com/scikit-learn/scikit-learn/issues/21755 */\n",
       "  display: inline-block !important;\n",
       "  position: relative;\n",
       "}\n",
       "\n",
       "#sk-container-id-1 div.sk-text-repr-fallback {\n",
       "  display: none;\n",
       "}\n",
       "\n",
       "div.sk-parallel-item,\n",
       "div.sk-serial,\n",
       "div.sk-item {\n",
       "  /* draw centered vertical line to link estimators */\n",
       "  background-image: linear-gradient(var(--sklearn-color-text-on-default-background), var(--sklearn-color-text-on-default-background));\n",
       "  background-size: 2px 100%;\n",
       "  background-repeat: no-repeat;\n",
       "  background-position: center center;\n",
       "}\n",
       "\n",
       "/* Parallel-specific style estimator block */\n",
       "\n",
       "#sk-container-id-1 div.sk-parallel-item::after {\n",
       "  content: \"\";\n",
       "  width: 100%;\n",
       "  border-bottom: 2px solid var(--sklearn-color-text-on-default-background);\n",
       "  flex-grow: 1;\n",
       "}\n",
       "\n",
       "#sk-container-id-1 div.sk-parallel {\n",
       "  display: flex;\n",
       "  align-items: stretch;\n",
       "  justify-content: center;\n",
       "  background-color: var(--sklearn-color-background);\n",
       "  position: relative;\n",
       "}\n",
       "\n",
       "#sk-container-id-1 div.sk-parallel-item {\n",
       "  display: flex;\n",
       "  flex-direction: column;\n",
       "}\n",
       "\n",
       "#sk-container-id-1 div.sk-parallel-item:first-child::after {\n",
       "  align-self: flex-end;\n",
       "  width: 50%;\n",
       "}\n",
       "\n",
       "#sk-container-id-1 div.sk-parallel-item:last-child::after {\n",
       "  align-self: flex-start;\n",
       "  width: 50%;\n",
       "}\n",
       "\n",
       "#sk-container-id-1 div.sk-parallel-item:only-child::after {\n",
       "  width: 0;\n",
       "}\n",
       "\n",
       "/* Serial-specific style estimator block */\n",
       "\n",
       "#sk-container-id-1 div.sk-serial {\n",
       "  display: flex;\n",
       "  flex-direction: column;\n",
       "  align-items: center;\n",
       "  background-color: var(--sklearn-color-background);\n",
       "  padding-right: 1em;\n",
       "  padding-left: 1em;\n",
       "}\n",
       "\n",
       "\n",
       "/* Toggleable style: style used for estimator/Pipeline/ColumnTransformer box that is\n",
       "clickable and can be expanded/collapsed.\n",
       "- Pipeline and ColumnTransformer use this feature and define the default style\n",
       "- Estimators will overwrite some part of the style using the `sk-estimator` class\n",
       "*/\n",
       "\n",
       "/* Pipeline and ColumnTransformer style (default) */\n",
       "\n",
       "#sk-container-id-1 div.sk-toggleable {\n",
       "  /* Default theme specific background. It is overwritten whether we have a\n",
       "  specific estimator or a Pipeline/ColumnTransformer */\n",
       "  background-color: var(--sklearn-color-background);\n",
       "}\n",
       "\n",
       "/* Toggleable label */\n",
       "#sk-container-id-1 label.sk-toggleable__label {\n",
       "  cursor: pointer;\n",
       "  display: block;\n",
       "  width: 100%;\n",
       "  margin-bottom: 0;\n",
       "  padding: 0.5em;\n",
       "  box-sizing: border-box;\n",
       "  text-align: center;\n",
       "}\n",
       "\n",
       "#sk-container-id-1 label.sk-toggleable__label-arrow:before {\n",
       "  /* Arrow on the left of the label */\n",
       "  content: \"▸\";\n",
       "  float: left;\n",
       "  margin-right: 0.25em;\n",
       "  color: var(--sklearn-color-icon);\n",
       "}\n",
       "\n",
       "#sk-container-id-1 label.sk-toggleable__label-arrow:hover:before {\n",
       "  color: var(--sklearn-color-text);\n",
       "}\n",
       "\n",
       "/* Toggleable content - dropdown */\n",
       "\n",
       "#sk-container-id-1 div.sk-toggleable__content {\n",
       "  max-height: 0;\n",
       "  max-width: 0;\n",
       "  overflow: hidden;\n",
       "  text-align: left;\n",
       "  /* unfitted */\n",
       "  background-color: var(--sklearn-color-unfitted-level-0);\n",
       "}\n",
       "\n",
       "#sk-container-id-1 div.sk-toggleable__content.fitted {\n",
       "  /* fitted */\n",
       "  background-color: var(--sklearn-color-fitted-level-0);\n",
       "}\n",
       "\n",
       "#sk-container-id-1 div.sk-toggleable__content pre {\n",
       "  margin: 0.2em;\n",
       "  border-radius: 0.25em;\n",
       "  color: var(--sklearn-color-text);\n",
       "  /* unfitted */\n",
       "  background-color: var(--sklearn-color-unfitted-level-0);\n",
       "}\n",
       "\n",
       "#sk-container-id-1 div.sk-toggleable__content.fitted pre {\n",
       "  /* unfitted */\n",
       "  background-color: var(--sklearn-color-fitted-level-0);\n",
       "}\n",
       "\n",
       "#sk-container-id-1 input.sk-toggleable__control:checked~div.sk-toggleable__content {\n",
       "  /* Expand drop-down */\n",
       "  max-height: 200px;\n",
       "  max-width: 100%;\n",
       "  overflow: auto;\n",
       "}\n",
       "\n",
       "#sk-container-id-1 input.sk-toggleable__control:checked~label.sk-toggleable__label-arrow:before {\n",
       "  content: \"▾\";\n",
       "}\n",
       "\n",
       "/* Pipeline/ColumnTransformer-specific style */\n",
       "\n",
       "#sk-container-id-1 div.sk-label input.sk-toggleable__control:checked~label.sk-toggleable__label {\n",
       "  color: var(--sklearn-color-text);\n",
       "  background-color: var(--sklearn-color-unfitted-level-2);\n",
       "}\n",
       "\n",
       "#sk-container-id-1 div.sk-label.fitted input.sk-toggleable__control:checked~label.sk-toggleable__label {\n",
       "  background-color: var(--sklearn-color-fitted-level-2);\n",
       "}\n",
       "\n",
       "/* Estimator-specific style */\n",
       "\n",
       "/* Colorize estimator box */\n",
       "#sk-container-id-1 div.sk-estimator input.sk-toggleable__control:checked~label.sk-toggleable__label {\n",
       "  /* unfitted */\n",
       "  background-color: var(--sklearn-color-unfitted-level-2);\n",
       "}\n",
       "\n",
       "#sk-container-id-1 div.sk-estimator.fitted input.sk-toggleable__control:checked~label.sk-toggleable__label {\n",
       "  /* fitted */\n",
       "  background-color: var(--sklearn-color-fitted-level-2);\n",
       "}\n",
       "\n",
       "#sk-container-id-1 div.sk-label label.sk-toggleable__label,\n",
       "#sk-container-id-1 div.sk-label label {\n",
       "  /* The background is the default theme color */\n",
       "  color: var(--sklearn-color-text-on-default-background);\n",
       "}\n",
       "\n",
       "/* On hover, darken the color of the background */\n",
       "#sk-container-id-1 div.sk-label:hover label.sk-toggleable__label {\n",
       "  color: var(--sklearn-color-text);\n",
       "  background-color: var(--sklearn-color-unfitted-level-2);\n",
       "}\n",
       "\n",
       "/* Label box, darken color on hover, fitted */\n",
       "#sk-container-id-1 div.sk-label.fitted:hover label.sk-toggleable__label.fitted {\n",
       "  color: var(--sklearn-color-text);\n",
       "  background-color: var(--sklearn-color-fitted-level-2);\n",
       "}\n",
       "\n",
       "/* Estimator label */\n",
       "\n",
       "#sk-container-id-1 div.sk-label label {\n",
       "  font-family: monospace;\n",
       "  font-weight: bold;\n",
       "  display: inline-block;\n",
       "  line-height: 1.2em;\n",
       "}\n",
       "\n",
       "#sk-container-id-1 div.sk-label-container {\n",
       "  text-align: center;\n",
       "}\n",
       "\n",
       "/* Estimator-specific */\n",
       "#sk-container-id-1 div.sk-estimator {\n",
       "  font-family: monospace;\n",
       "  border: 1px dotted var(--sklearn-color-border-box);\n",
       "  border-radius: 0.25em;\n",
       "  box-sizing: border-box;\n",
       "  margin-bottom: 0.5em;\n",
       "  /* unfitted */\n",
       "  background-color: var(--sklearn-color-unfitted-level-0);\n",
       "}\n",
       "\n",
       "#sk-container-id-1 div.sk-estimator.fitted {\n",
       "  /* fitted */\n",
       "  background-color: var(--sklearn-color-fitted-level-0);\n",
       "}\n",
       "\n",
       "/* on hover */\n",
       "#sk-container-id-1 div.sk-estimator:hover {\n",
       "  /* unfitted */\n",
       "  background-color: var(--sklearn-color-unfitted-level-2);\n",
       "}\n",
       "\n",
       "#sk-container-id-1 div.sk-estimator.fitted:hover {\n",
       "  /* fitted */\n",
       "  background-color: var(--sklearn-color-fitted-level-2);\n",
       "}\n",
       "\n",
       "/* Specification for estimator info (e.g. \"i\" and \"?\") */\n",
       "\n",
       "/* Common style for \"i\" and \"?\" */\n",
       "\n",
       ".sk-estimator-doc-link,\n",
       "a:link.sk-estimator-doc-link,\n",
       "a:visited.sk-estimator-doc-link {\n",
       "  float: right;\n",
       "  font-size: smaller;\n",
       "  line-height: 1em;\n",
       "  font-family: monospace;\n",
       "  background-color: var(--sklearn-color-background);\n",
       "  border-radius: 1em;\n",
       "  height: 1em;\n",
       "  width: 1em;\n",
       "  text-decoration: none !important;\n",
       "  margin-left: 1ex;\n",
       "  /* unfitted */\n",
       "  border: var(--sklearn-color-unfitted-level-1) 1pt solid;\n",
       "  color: var(--sklearn-color-unfitted-level-1);\n",
       "}\n",
       "\n",
       ".sk-estimator-doc-link.fitted,\n",
       "a:link.sk-estimator-doc-link.fitted,\n",
       "a:visited.sk-estimator-doc-link.fitted {\n",
       "  /* fitted */\n",
       "  border: var(--sklearn-color-fitted-level-1) 1pt solid;\n",
       "  color: var(--sklearn-color-fitted-level-1);\n",
       "}\n",
       "\n",
       "/* On hover */\n",
       "div.sk-estimator:hover .sk-estimator-doc-link:hover,\n",
       ".sk-estimator-doc-link:hover,\n",
       "div.sk-label-container:hover .sk-estimator-doc-link:hover,\n",
       ".sk-estimator-doc-link:hover {\n",
       "  /* unfitted */\n",
       "  background-color: var(--sklearn-color-unfitted-level-3);\n",
       "  color: var(--sklearn-color-background);\n",
       "  text-decoration: none;\n",
       "}\n",
       "\n",
       "div.sk-estimator.fitted:hover .sk-estimator-doc-link.fitted:hover,\n",
       ".sk-estimator-doc-link.fitted:hover,\n",
       "div.sk-label-container:hover .sk-estimator-doc-link.fitted:hover,\n",
       ".sk-estimator-doc-link.fitted:hover {\n",
       "  /* fitted */\n",
       "  background-color: var(--sklearn-color-fitted-level-3);\n",
       "  color: var(--sklearn-color-background);\n",
       "  text-decoration: none;\n",
       "}\n",
       "\n",
       "/* Span, style for the box shown on hovering the info icon */\n",
       ".sk-estimator-doc-link span {\n",
       "  display: none;\n",
       "  z-index: 9999;\n",
       "  position: relative;\n",
       "  font-weight: normal;\n",
       "  right: .2ex;\n",
       "  padding: .5ex;\n",
       "  margin: .5ex;\n",
       "  width: min-content;\n",
       "  min-width: 20ex;\n",
       "  max-width: 50ex;\n",
       "  color: var(--sklearn-color-text);\n",
       "  box-shadow: 2pt 2pt 4pt #999;\n",
       "  /* unfitted */\n",
       "  background: var(--sklearn-color-unfitted-level-0);\n",
       "  border: .5pt solid var(--sklearn-color-unfitted-level-3);\n",
       "}\n",
       "\n",
       ".sk-estimator-doc-link.fitted span {\n",
       "  /* fitted */\n",
       "  background: var(--sklearn-color-fitted-level-0);\n",
       "  border: var(--sklearn-color-fitted-level-3);\n",
       "}\n",
       "\n",
       ".sk-estimator-doc-link:hover span {\n",
       "  display: block;\n",
       "}\n",
       "\n",
       "/* \"?\"-specific style due to the `<a>` HTML tag */\n",
       "\n",
       "#sk-container-id-1 a.estimator_doc_link {\n",
       "  float: right;\n",
       "  font-size: 1rem;\n",
       "  line-height: 1em;\n",
       "  font-family: monospace;\n",
       "  background-color: var(--sklearn-color-background);\n",
       "  border-radius: 1rem;\n",
       "  height: 1rem;\n",
       "  width: 1rem;\n",
       "  text-decoration: none;\n",
       "  /* unfitted */\n",
       "  color: var(--sklearn-color-unfitted-level-1);\n",
       "  border: var(--sklearn-color-unfitted-level-1) 1pt solid;\n",
       "}\n",
       "\n",
       "#sk-container-id-1 a.estimator_doc_link.fitted {\n",
       "  /* fitted */\n",
       "  border: var(--sklearn-color-fitted-level-1) 1pt solid;\n",
       "  color: var(--sklearn-color-fitted-level-1);\n",
       "}\n",
       "\n",
       "/* On hover */\n",
       "#sk-container-id-1 a.estimator_doc_link:hover {\n",
       "  /* unfitted */\n",
       "  background-color: var(--sklearn-color-unfitted-level-3);\n",
       "  color: var(--sklearn-color-background);\n",
       "  text-decoration: none;\n",
       "}\n",
       "\n",
       "#sk-container-id-1 a.estimator_doc_link.fitted:hover {\n",
       "  /* fitted */\n",
       "  background-color: var(--sklearn-color-fitted-level-3);\n",
       "}\n",
       "</style><div id=\"sk-container-id-1\" class=\"sk-top-container\"><div class=\"sk-text-repr-fallback\"><pre>MultinomialNB()</pre><b>In a Jupyter environment, please rerun this cell to show the HTML representation or trust the notebook. <br />On GitHub, the HTML representation is unable to render, please try loading this page with nbviewer.org.</b></div><div class=\"sk-container\" hidden><div class=\"sk-item\"><div class=\"sk-estimator fitted sk-toggleable\"><input class=\"sk-toggleable__control sk-hidden--visually\" id=\"sk-estimator-id-1\" type=\"checkbox\" checked><label for=\"sk-estimator-id-1\" class=\"sk-toggleable__label fitted sk-toggleable__label-arrow fitted\">&nbsp;&nbsp;MultinomialNB<a class=\"sk-estimator-doc-link fitted\" rel=\"noreferrer\" target=\"_blank\" href=\"https://scikit-learn.org/1.4/modules/generated/sklearn.naive_bayes.MultinomialNB.html\">?<span>Documentation for MultinomialNB</span></a><span class=\"sk-estimator-doc-link fitted\">i<span>Fitted</span></span></label><div class=\"sk-toggleable__content fitted\"><pre>MultinomialNB()</pre></div> </div></div></div></div>"
      ],
      "text/plain": [
       "MultinomialNB()"
      ]
     },
     "execution_count": 17,
     "metadata": {},
     "output_type": "execute_result"
    }
   ],
   "source": [
    "model.fit(X_train_tfidf, y_train)"
   ]
  },
  {
   "cell_type": "code",
   "execution_count": 18,
   "id": "fcf24085-314d-4275-af59-625fdd603da5",
   "metadata": {},
   "outputs": [
    {
     "data": {
      "text/plain": [
       "(489, 3615)"
      ]
     },
     "execution_count": 18,
     "metadata": {},
     "output_type": "execute_result"
    }
   ],
   "source": [
    "X_test_tfidf = tfidf_vect.transform(X_test)\n",
    "X_test_tfidf.shape"
   ]
  },
  {
   "cell_type": "code",
   "execution_count": 19,
   "id": "0366f7e0-0c70-486f-a553-7803a79b8b26",
   "metadata": {},
   "outputs": [
    {
     "data": {
      "text/plain": [
       "((489,), (489,))"
      ]
     },
     "execution_count": 19,
     "metadata": {},
     "output_type": "execute_result"
    }
   ],
   "source": [
    "predictions = model.predict(X_test_tfidf)\n",
    "predictions.shape, y_test.shape"
   ]
  },
  {
   "cell_type": "code",
   "execution_count": 20,
   "id": "c2f1b56e-cf76-4c65-8760-0525981d14e3",
   "metadata": {},
   "outputs": [
    {
     "data": {
      "text/plain": [
       "array([0, 1, 0, 0, 1, 0, 1, 1, 0, 0])"
      ]
     },
     "execution_count": 20,
     "metadata": {},
     "output_type": "execute_result"
    }
   ],
   "source": [
    "predictions[:10]"
   ]
  },
  {
   "cell_type": "code",
   "execution_count": 21,
   "id": "8d1fff15-b5ff-41bd-896d-5ca448fc8940",
   "metadata": {},
   "outputs": [
    {
     "data": {
      "text/plain": [
       "array([[204,  32],\n",
       "       [  8, 245]])"
      ]
     },
     "execution_count": 21,
     "metadata": {},
     "output_type": "execute_result"
    }
   ],
   "source": [
    "confusion_matrix(y_test, predictions)"
   ]
  },
  {
   "cell_type": "code",
   "execution_count": 22,
   "id": "3003849c-dfa5-4d6b-bd0e-9ef198f64da4",
   "metadata": {},
   "outputs": [
    {
     "name": "stdout",
     "output_type": "stream",
     "text": [
      "              precision    recall  f1-score   support\n",
      "\n",
      "           0       0.96      0.86      0.91       236\n",
      "           1       0.88      0.97      0.92       253\n",
      "\n",
      "    accuracy                           0.92       489\n",
      "   macro avg       0.92      0.92      0.92       489\n",
      "weighted avg       0.92      0.92      0.92       489\n",
      "\n"
     ]
    }
   ],
   "source": [
    "print(classification_report(y_test, predictions))"
   ]
  },
  {
   "cell_type": "code",
   "execution_count": 23,
   "id": "5e719ea7-1926-459e-88df-c84a747774d1",
   "metadata": {},
   "outputs": [
    {
     "data": {
      "text/plain": [
       "0.918200408997955"
      ]
     },
     "execution_count": 23,
     "metadata": {},
     "output_type": "execute_result"
    }
   ],
   "source": [
    "model.score(X_test_tfidf, y_test)"
   ]
  },
  {
   "cell_type": "code",
   "execution_count": 24,
   "id": "9bb66769-69bc-4bdd-ad81-6edfb5b32adb",
   "metadata": {},
   "outputs": [
    {
     "data": {
      "text/plain": [
       "0.9243353783231084"
      ]
     },
     "execution_count": 24,
     "metadata": {},
     "output_type": "execute_result"
    }
   ],
   "source": [
    "(213+239)/489 # True positve + True negative / total data points"
   ]
  },
  {
   "cell_type": "code",
   "execution_count": 25,
   "id": "190be0fe-483c-4518-9c96-1da32b913ade",
   "metadata": {},
   "outputs": [],
   "source": [
    "with open(\"model.pkl\", \"wb\") as model_file:\n",
    "    pickle.dump(model, model_file)"
   ]
  },
  {
   "cell_type": "code",
   "execution_count": 26,
   "id": "61a0e62f-988b-4cb8-82f4-703897a7ba3d",
   "metadata": {},
   "outputs": [],
   "source": [
    "with open(\"tfidf-vect.pkl\", \"wb\") as tfidf_vect_file:\n",
    "    pickle.dump(tfidf_vect, tfidf_vect_file)"
   ]
  },
  {
   "cell_type": "code",
   "execution_count": 27,
   "id": "06dc609c-df5d-4b6b-a565-7adddb74318f",
   "metadata": {},
   "outputs": [
    {
     "name": "stdout",
     "output_type": "stream",
     "text": [
      "'01 Spam Detection for YouTube Comments.ipynb'\t tfidf-vect.pkl\n",
      " dataset\t\t\t\t\t youtube+spam+collection.zip\n",
      " model.pkl\n"
     ]
    }
   ],
   "source": [
    "!ls"
   ]
  },
  {
   "cell_type": "markdown",
   "id": "2ad76398-79c5-4fe8-bbe3-78eabf6a23cd",
   "metadata": {},
   "source": [
    "#### Loading model to perform prediction"
   ]
  },
  {
   "cell_type": "code",
   "execution_count": 28,
   "id": "5c518187-4a6f-4c6f-8e7a-df7b8d17ce88",
   "metadata": {},
   "outputs": [],
   "source": [
    "with open(\"model.pkl\", \"rb\") as model_file:\n",
    "    model = pickle.load(model_file)"
   ]
  },
  {
   "cell_type": "code",
   "execution_count": 29,
   "id": "6e43d20b-3597-401a-9843-34f1f2dd3e73",
   "metadata": {},
   "outputs": [],
   "source": [
    "Spam Detection for YouTube Commentswith open(\"tfidf-vect.pkl\", \"rb\") as tfidf_vect_file:\n",
    "    tfidf_vect = pickle.load(tfidf_vect_file)"
   ]
  },
  {
   "cell_type": "code",
   "execution_count": 30,
   "id": "43f0e166-ac4d-4a65-b40a-842dc2a9fa93",
   "metadata": {},
   "outputs": [],
   "source": [
    "comment = np.array([\"Who else just randomly listening old songs\"])"
   ]
  },
  {
   "cell_type": "code",
   "execution_count": 31,
   "id": "b07f467c-4af3-46d9-9819-240e3eb7420a",
   "metadata": {},
   "outputs": [
    {
     "data": {
      "text/plain": [
       "array(['Who else just randomly listening old songs'], dtype='<U42')"
      ]
     },
     "execution_count": 31,
     "metadata": {},
     "output_type": "execute_result"
    }
   ],
   "source": [
    "comment"
   ]
  },
  {
   "cell_type": "code",
   "execution_count": 32,
   "id": "31640551-9e0b-4515-ac81-cc5711544c92",
   "metadata": {},
   "outputs": [],
   "source": [
    "vect_comment = tfidf_vect.transform(comment)"
   ]
  },
  {
   "cell_type": "code",
   "execution_count": 33,
   "id": "fde3040a-8f04-447b-a2ea-1a9a0f14cba5",
   "metadata": {},
   "outputs": [
    {
     "data": {
      "text/plain": [
       "(1, 3615)"
      ]
     },
     "execution_count": 33,
     "metadata": {},
     "output_type": "execute_result"
    }
   ],
   "source": [
    "vect_comment.shape"
   ]
  },
  {
   "cell_type": "code",
   "execution_count": 34,
   "id": "d345b608-d15c-4929-814d-5a60f73dd5c5",
   "metadata": {},
   "outputs": [
    {
     "data": {
      "text/plain": [
       "array([0])"
      ]
     },
     "execution_count": 34,
     "metadata": {},
     "output_type": "execute_result"
    }
   ],
   "source": [
    "model.predict(vect_comment)"
   ]
  },
  {
   "cell_type": "code",
   "execution_count": 35,
   "id": "e45b5833-af1f-4efc-9181-e0d673862935",
   "metadata": {},
   "outputs": [
    {
     "data": {
      "text/html": [
       "<div>\n",
       "<style scoped>\n",
       "    .dataframe tbody tr th:only-of-type {\n",
       "        vertical-align: middle;\n",
       "    }\n",
       "\n",
       "    .dataframe tbody tr th {\n",
       "        vertical-align: top;\n",
       "    }\n",
       "\n",
       "    .dataframe thead th {\n",
       "        text-align: right;\n",
       "    }\n",
       "</style>\n",
       "<table border=\"1\" class=\"dataframe\">\n",
       "  <thead>\n",
       "    <tr style=\"text-align: right;\">\n",
       "      <th></th>\n",
       "      <th>CONTENT</th>\n",
       "      <th>CLASS</th>\n",
       "    </tr>\n",
       "  </thead>\n",
       "  <tbody>\n",
       "    <tr>\n",
       "      <th>325</th>\n",
       "      <td>adam b beats check out my page</td>\n",
       "      <td>1</td>\n",
       "    </tr>\n",
       "    <tr>\n",
       "      <th>93</th>\n",
       "      <td>waka waka:-):-):-)﻿</td>\n",
       "      <td>0</td>\n",
       "    </tr>\n",
       "    <tr>\n",
       "      <th>124</th>\n",
       "      <td>Imagine this in the news crazy woman found act...</td>\n",
       "      <td>0</td>\n",
       "    </tr>\n",
       "    <tr>\n",
       "      <th>338</th>\n",
       "      <td>CHECK OUT THESE LYRICS /watch?v=yUTTX04oyqQ</td>\n",
       "      <td>1</td>\n",
       "    </tr>\n",
       "    <tr>\n",
       "      <th>191</th>\n",
       "      <td>The Guy in the yellow suit kinda looks like Ja...</td>\n",
       "      <td>0</td>\n",
       "    </tr>\n",
       "    <tr>\n",
       "      <th>16</th>\n",
       "      <td>Take a look at this video on YouTube:﻿</td>\n",
       "      <td>1</td>\n",
       "    </tr>\n",
       "    <tr>\n",
       "      <th>69</th>\n",
       "      <td>It's been back for quite a while now.</td>\n",
       "      <td>0</td>\n",
       "    </tr>\n",
       "    <tr>\n",
       "      <th>310</th>\n",
       "      <td>everyone come and check out the new GTA 5 Game...</td>\n",
       "      <td>1</td>\n",
       "    </tr>\n",
       "    <tr>\n",
       "      <th>356</th>\n",
       "      <td>Check out this video on YouTube:﻿</td>\n",
       "      <td>1</td>\n",
       "    </tr>\n",
       "    <tr>\n",
       "      <th>102</th>\n",
       "      <td>Amazing song﻿</td>\n",
       "      <td>0</td>\n",
       "    </tr>\n",
       "  </tbody>\n",
       "</table>\n",
       "</div>"
      ],
      "text/plain": [
       "                                               CONTENT  CLASS\n",
       "325                     adam b beats check out my page      1\n",
       "93                                 waka waka:-):-):-)﻿      0\n",
       "124  Imagine this in the news crazy woman found act...      0\n",
       "338        CHECK OUT THESE LYRICS /watch?v=yUTTX04oyqQ      1\n",
       "191  The Guy in the yellow suit kinda looks like Ja...      0\n",
       "16              Take a look at this video on YouTube:﻿      1\n",
       "69               It's been back for quite a while now.      0\n",
       "310  everyone come and check out the new GTA 5 Game...      1\n",
       "356                  Check out this video on YouTube:﻿      1\n",
       "102                                      Amazing song﻿      0"
      ]
     },
     "execution_count": 35,
     "metadata": {},
     "output_type": "execute_result"
    }
   ],
   "source": [
    "data.sample(10)"
   ]
  },
  {
   "cell_type": "markdown",
   "id": "dcf20cec-2db9-4822-bce4-9a7bb9a0da49",
   "metadata": {},
   "source": [
    "#### Do cross validation"
   ]
  },
  {
   "cell_type": "code",
   "execution_count": 36,
   "id": "20dbe85b-6795-4e85-a008-953900affc70",
   "metadata": {},
   "outputs": [],
   "source": [
    "from sklearn.model_selection import cross_validate"
   ]
  },
  {
   "cell_type": "code",
   "execution_count": 37,
   "id": "e699ab77-765d-432d-896e-9e667c45c8d7",
   "metadata": {},
   "outputs": [],
   "source": [
    "estimator = MultinomialNB()"
   ]
  },
  {
   "cell_type": "code",
   "execution_count": 38,
   "id": "6d42b4b4-eb40-422b-8b82-244b12a492ee",
   "metadata": {},
   "outputs": [],
   "source": [
    "scoring = ['precision', 'recall', 'f1']"
   ]
  },
  {
   "cell_type": "code",
   "execution_count": 39,
   "id": "15b11baf-507e-47b8-8ccd-dcce105d81cb",
   "metadata": {},
   "outputs": [
    {
     "name": "stdout",
     "output_type": "stream",
     "text": [
      "[CV] START .....................................................................\n",
      "[CV] END  f1: (test=0.935) precision: (test=0.911) recall: (test=0.960) total time=   0.0s\n",
      "[Parallel(n_jobs=1)]: Done   1 tasks      | elapsed:    0.0s\n",
      "[CV] START .....................................................................\n",
      "[CV] END  f1: (test=0.954) precision: (test=0.947) recall: (test=0.960) total time=   0.0s\n",
      "[Parallel(n_jobs=1)]: Done   2 tasks      | elapsed:    0.0s\n",
      "[CV] START .....................................................................\n",
      "[CV] END  f1: (test=0.934) precision: (test=0.922) recall: (test=0.947) total time=   0.0s\n",
      "[Parallel(n_jobs=1)]: Done   3 tasks      | elapsed:    0.0s\n",
      "[CV] START .....................................................................\n",
      "[CV] END  f1: (test=0.922) precision: (test=0.899) recall: (test=0.947) total time=   0.0s\n",
      "[Parallel(n_jobs=1)]: Done   4 tasks      | elapsed:    0.0s\n",
      "[CV] START .....................................................................\n",
      "[CV] END  f1: (test=0.890) precision: (test=0.863) recall: (test=0.920) total time=   0.0s\n",
      "[Parallel(n_jobs=1)]: Done   5 tasks      | elapsed:    0.0s\n",
      "[CV] START .....................................................................\n",
      "[CV] END  f1: (test=0.947) precision: (test=0.947) recall: (test=0.947) total time=   0.0s\n",
      "[Parallel(n_jobs=1)]: Done   6 tasks      | elapsed:    0.0s\n",
      "[CV] START .....................................................................\n",
      "[CV] END  f1: (test=0.902) precision: (test=0.896) recall: (test=0.908) total time=   0.0s\n",
      "[Parallel(n_jobs=1)]: Done   7 tasks      | elapsed:    0.0s\n",
      "[CV] START .....................................................................\n",
      "[CV] END  f1: (test=0.892) precision: (test=0.904) recall: (test=0.880) total time=   0.0s\n",
      "[Parallel(n_jobs=1)]: Done   8 tasks      | elapsed:    0.0s\n",
      "[CV] START .....................................................................\n",
      "[CV] END  f1: (test=0.936) precision: (test=0.901) recall: (test=0.973) total time=   0.0s\n",
      "[Parallel(n_jobs=1)]: Done   9 tasks      | elapsed:    0.1s\n",
      "[CV] START .....................................................................\n",
      "[CV] END  f1: (test=0.909) precision: (test=0.886) recall: (test=0.933) total time=   0.0s\n",
      "[Parallel(n_jobs=1)]: Done  10 tasks      | elapsed:    0.1s\n",
      "[Parallel(n_jobs=1)]: Done  10 tasks      | elapsed:    0.1s\n"
     ]
    }
   ],
   "source": [
    "scores_cross_validate = cross_validate(estimator=estimator, X=tfidf_vect.fit_transform(X_train), y=y_train, scoring=scoring, cv=10, verbose=1000)"
   ]
  },
  {
   "cell_type": "code",
   "execution_count": 40,
   "id": "c98a8534-d172-40fd-a4cc-5634d432309f",
   "metadata": {},
   "outputs": [
    {
     "data": {
      "text/plain": [
       "{'fit_time': array([0.00223851, 0.00138044, 0.00136232, 0.00143003, 0.00135803,\n",
       "        0.00133491, 0.00138783, 0.00133514, 0.00143862, 0.00138211]),\n",
       " 'score_time': array([0.00395775, 0.00390077, 0.00377774, 0.00383687, 0.00381804,\n",
       "        0.00373507, 0.00367785, 0.00374889, 0.00378895, 0.00383019]),\n",
       " 'test_precision': array([0.91139241, 0.94736842, 0.92207792, 0.89873418, 0.8625    ,\n",
       "        0.94736842, 0.8961039 , 0.90410959, 0.90123457, 0.88607595]),\n",
       " 'test_recall': array([0.96      , 0.96      , 0.94666667, 0.94666667, 0.92      ,\n",
       "        0.94736842, 0.90789474, 0.88      , 0.97333333, 0.93333333]),\n",
       " 'test_f1': array([0.93506494, 0.95364238, 0.93421053, 0.92207792, 0.89032258,\n",
       "        0.94736842, 0.90196078, 0.89189189, 0.93589744, 0.90909091])}"
      ]
     },
     "execution_count": 40,
     "metadata": {},
     "output_type": "execute_result"
    }
   ],
   "source": [
    "scores_cross_validate"
   ]
  },
  {
   "cell_type": "code",
   "execution_count": 41,
   "id": "44e8d4bb-d7dc-4e76-b68f-d7f083fa82f7",
   "metadata": {},
   "outputs": [],
   "source": [
    "from sklearn.model_selection import cross_val_score"
   ]
  },
  {
   "cell_type": "code",
   "execution_count": 42,
   "id": "161af248-210b-4b39-8011-1ed9e2c3c9b6",
   "metadata": {},
   "outputs": [
    {
     "name": "stdout",
     "output_type": "stream",
     "text": [
      "[CV] START .....................................................................\n",
      "[CV] END ................................ score: (test=0.935) total time=   0.0s\n",
      "[Parallel(n_jobs=1)]: Done   1 tasks      | elapsed:    0.0s\n",
      "[CV] START .....................................................................\n",
      "[CV] END ................................ score: (test=0.954) total time=   0.0s\n",
      "[Parallel(n_jobs=1)]: Done   2 tasks      | elapsed:    0.0s\n",
      "[CV] START .....................................................................\n",
      "[CV] END ................................ score: (test=0.934) total time=   0.0s\n",
      "[Parallel(n_jobs=1)]: Done   3 tasks      | elapsed:    0.0s\n",
      "[CV] START .....................................................................\n",
      "[CV] END ................................ score: (test=0.922) total time=   0.0s\n",
      "[Parallel(n_jobs=1)]: Done   4 tasks      | elapsed:    0.0s\n",
      "[CV] START .....................................................................\n",
      "[CV] END ................................ score: (test=0.890) total time=   0.0s\n",
      "[Parallel(n_jobs=1)]: Done   5 tasks      | elapsed:    0.0s\n",
      "[CV] START .....................................................................\n",
      "[CV] END ................................ score: (test=0.947) total time=   0.0s\n",
      "[Parallel(n_jobs=1)]: Done   6 tasks      | elapsed:    0.0s\n",
      "[CV] START .....................................................................\n",
      "[CV] END ................................ score: (test=0.902) total time=   0.0s\n",
      "[Parallel(n_jobs=1)]: Done   7 tasks      | elapsed:    0.0s\n",
      "[CV] START .....................................................................\n",
      "[CV] END ................................ score: (test=0.892) total time=   0.0s\n",
      "[Parallel(n_jobs=1)]: Done   8 tasks      | elapsed:    0.0s\n",
      "[CV] START .....................................................................\n",
      "[CV] END ................................ score: (test=0.936) total time=   0.0s\n",
      "[Parallel(n_jobs=1)]: Done   9 tasks      | elapsed:    0.0s\n",
      "[CV] START .....................................................................\n",
      "[CV] END ................................ score: (test=0.909) total time=   0.0s\n",
      "[Parallel(n_jobs=1)]: Done  10 tasks      | elapsed:    0.0s\n",
      "[Parallel(n_jobs=1)]: Done  10 tasks      | elapsed:    0.0s\n"
     ]
    }
   ],
   "source": [
    "scores_cross_val_score = cross_val_score(estimator=estimator, X=tfidf_vect.fit_transform(X_train), y = y_train, scoring=\"f1\", cv = 10, verbose=300)"
   ]
  },
  {
   "cell_type": "code",
   "execution_count": 43,
   "id": "f2b2d0e0-0f74-45e2-8594-bf2c99fdb8a0",
   "metadata": {},
   "outputs": [
    {
     "data": {
      "text/plain": [
       "array([0.93506494, 0.95364238, 0.93421053, 0.92207792, 0.89032258,\n",
       "       0.94736842, 0.90196078, 0.89189189, 0.93589744, 0.90909091])"
      ]
     },
     "execution_count": 43,
     "metadata": {},
     "output_type": "execute_result"
    }
   ],
   "source": [
    "scores_cross_val_score"
   ]
  },
  {
   "cell_type": "code",
   "execution_count": 44,
   "id": "abe0680f-a467-4a11-ac3f-b8f5858331b9",
   "metadata": {},
   "outputs": [
    {
     "data": {
      "text/plain": [
       "array([0.93506494, 0.95364238, 0.93421053, 0.92207792, 0.89032258,\n",
       "       0.94736842, 0.90196078, 0.89189189, 0.93589744, 0.90909091])"
      ]
     },
     "execution_count": 44,
     "metadata": {},
     "output_type": "execute_result"
    }
   ],
   "source": [
    "scores_cross_validate[\"test_f1\"]"
   ]
  },
  {
   "cell_type": "code",
   "execution_count": 45,
   "id": "5b00c980-9742-4e91-9410-6ab793b303da",
   "metadata": {},
   "outputs": [
    {
     "name": "stdout",
     "output_type": "stream",
     "text": [
      "[CV] START .....................................................................\n",
      "[CV] END  f1: (test=0.945) precision: (test=0.929) recall: (test=0.960) total time=   0.0s\n",
      "[Parallel(n_jobs=1)]: Done   1 tasks      | elapsed:    0.0s\n",
      "[CV] START .....................................................................\n",
      "[CV] END  f1: (test=0.926) precision: (test=0.905) recall: (test=0.947) total time=   0.0s\n",
      "[Parallel(n_jobs=1)]: Done   2 tasks      | elapsed:    0.0s\n",
      "[CV] START .....................................................................\n",
      "[CV] END  f1: (test=0.921) precision: (test=0.909) recall: (test=0.933) total time=   0.0s\n",
      "[Parallel(n_jobs=1)]: Done   3 tasks      | elapsed:    0.0s\n",
      "[CV] START .....................................................................\n",
      "[CV] END  f1: (test=0.903) precision: (test=0.906) recall: (test=0.900) total time=   0.0s\n",
      "[Parallel(n_jobs=1)]: Done   4 tasks      | elapsed:    0.0s\n",
      "[CV] START .....................................................................\n",
      "[CV] END  f1: (test=0.920) precision: (test=0.883) recall: (test=0.960) total time=   0.0s\n",
      "[Parallel(n_jobs=1)]: Done   5 tasks      | elapsed:    0.0s\n",
      "[Parallel(n_jobs=1)]: Done   5 tasks      | elapsed:    0.0s\n"
     ]
    }
   ],
   "source": [
    "scores_cross_validate_cv5 = cross_validate(estimator=estimator, X=tfidf_vect.fit_transform(X_train), y=y_train, scoring=scoring, cv=5, verbose=1000)"
   ]
  },
  {
   "cell_type": "code",
   "execution_count": 46,
   "id": "3aacbdf8-b649-4f71-b80b-b2b69a96a213",
   "metadata": {},
   "outputs": [
    {
     "name": "stdout",
     "output_type": "stream",
     "text": [
      "[CV] START .....................................................................\n",
      "[CV] END ................................ score: (test=0.945) total time=   0.0s\n",
      "[Parallel(n_jobs=1)]: Done   1 tasks      | elapsed:    0.0s\n",
      "[CV] START .....................................................................\n",
      "[CV] END ................................ score: (test=0.926) total time=   0.0s\n",
      "[Parallel(n_jobs=1)]: Done   2 tasks      | elapsed:    0.0s\n",
      "[CV] START .....................................................................\n",
      "[CV] END ................................ score: (test=0.921) total time=   0.0s\n",
      "[Parallel(n_jobs=1)]: Done   3 tasks      | elapsed:    0.0s\n",
      "[CV] START .....................................................................\n",
      "[CV] END ................................ score: (test=0.903) total time=   0.0s\n",
      "[Parallel(n_jobs=1)]: Done   4 tasks      | elapsed:    0.0s\n",
      "[CV] START .....................................................................\n",
      "[CV] END ................................ score: (test=0.920) total time=   0.0s\n",
      "[Parallel(n_jobs=1)]: Done   5 tasks      | elapsed:    0.0s\n",
      "[Parallel(n_jobs=1)]: Done   5 tasks      | elapsed:    0.0s\n"
     ]
    }
   ],
   "source": [
    "scores_cross_val_score_cv5 = cross_val_score(estimator=estimator, X=tfidf_vect.fit_transform(X_train), y = y_train, scoring=\"f1\", cv = 5, verbose=300)"
   ]
  },
  {
   "cell_type": "code",
   "execution_count": 47,
   "id": "b3b3c897-1bb1-474c-b128-3bebd92404c2",
   "metadata": {},
   "outputs": [
    {
     "data": {
      "text/plain": [
       "array([0.94462541, 0.92556634, 0.92105263, 0.90301003, 0.9201278 ])"
      ]
     },
     "execution_count": 47,
     "metadata": {},
     "output_type": "execute_result"
    }
   ],
   "source": [
    "scores_cross_val_score_cv5"
   ]
  },
  {
   "cell_type": "code",
   "execution_count": 48,
   "id": "2acd45c0-2b8a-462c-8508-ec916d1ca382",
   "metadata": {},
   "outputs": [
    {
     "ename": "KeyError",
     "evalue": "'test'",
     "output_type": "error",
     "traceback": [
      "\u001b[0;31m---------------------------------------------------------------------------\u001b[0m",
      "\u001b[0;31mKeyError\u001b[0m                                  Traceback (most recent call last)",
      "Cell \u001b[0;32mIn[48], line 1\u001b[0m\n\u001b[0;32m----> 1\u001b[0m \u001b[43mscores_cross_validate_cv5\u001b[49m\u001b[43m[\u001b[49m\u001b[38;5;124;43m\"\u001b[39;49m\u001b[38;5;124;43mtest\u001b[39;49m\u001b[38;5;124;43m\"\u001b[39;49m\u001b[43m]\u001b[49m\n",
      "\u001b[0;31mKeyError\u001b[0m: 'test'"
     ]
    }
   ],
   "source": [
    "scores_cross_validate_cv5[\"test\"]"
   ]
  },
  {
   "cell_type": "code",
   "execution_count": null,
   "id": "77b4d27d-a1b5-4a5c-b6b5-2ae6f052196c",
   "metadata": {},
   "outputs": [],
   "source": []
  }
 ],
 "metadata": {
  "kernelspec": {
   "display_name": "Python 3 (ipykernel)",
   "language": "python",
   "name": "python3"
  },
  "language_info": {
   "codemirror_mode": {
    "name": "ipython",
    "version": 3
   },
   "file_extension": ".py",
   "mimetype": "text/x-python",
   "name": "python",
   "nbconvert_exporter": "python",
   "pygments_lexer": "ipython3",
   "version": "3.10.12"
  }
 },
 "nbformat": 4,
 "nbformat_minor": 5
}
